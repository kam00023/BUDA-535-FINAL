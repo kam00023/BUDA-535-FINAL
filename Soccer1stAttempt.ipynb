{
  "nbformat": 4,
  "nbformat_minor": 0,
  "metadata": {
    "colab": {
      "name": "Soccer1stAttempt.ipynb",
      "provenance": [],
      "collapsed_sections": [],
      "authorship_tag": "ABX9TyMMBlVWSMN0mmqf/7JckjRQ",
      "include_colab_link": true
    },
    "kernelspec": {
      "name": "python3",
      "display_name": "Python 3"
    },
    "language_info": {
      "name": "python"
    }
  },
  "cells": [
    {
      "cell_type": "markdown",
      "metadata": {
        "id": "view-in-github",
        "colab_type": "text"
      },
      "source": [
        "<a href=\"https://colab.research.google.com/github/kam00023/BUDA-535-FINAL/blob/main/Soccer1stAttempt.ipynb\" target=\"_parent\"><img src=\"https://colab.research.google.com/assets/colab-badge.svg\" alt=\"Open In Colab\"/></a>"
      ]
    },
    {
      "cell_type": "markdown",
      "source": [
        "Soccer data with names removed and random #'s replaced as unique identifiers."
      ],
      "metadata": {
        "id": "pfEAHSEuEbr-"
      }
    },
    {
      "cell_type": "code",
      "execution_count": 42,
      "metadata": {
        "id": "-A75ckZU7wA9"
      },
      "outputs": [],
      "source": [
        "import pandas as pd\n",
        "import numpy as np\n"
      ]
    },
    {
      "cell_type": "code",
      "source": [
        "import pip"
      ],
      "metadata": {
        "id": "YCBrhdyfHMRG"
      },
      "execution_count": 35,
      "outputs": []
    },
    {
      "cell_type": "code",
      "source": [
        "!apt-get -qq install -y libarchive-dev && pip install -U libarchive\n",
        "import libarchive"
      ],
      "metadata": {
        "id": "dqlcxE6THcKQ"
      },
      "execution_count": null,
      "outputs": []
    },
    {
      "cell_type": "code",
      "source": [
        "import sklearn"
      ],
      "metadata": {
        "id": "qyu0UPgdHtkE"
      },
      "execution_count": 39,
      "outputs": []
    },
    {
      "cell_type": "code",
      "source": [
        "df=pd.read_csv(\"https://raw.githubusercontent.com/kam1819/Soccer1-1/main/Soccer1stAttempt.csv\")\n",
        "print(df)"
      ],
      "metadata": {
        "colab": {
          "base_uri": "https://localhost:8080/"
        },
        "id": "-C3AxlxqID_x",
        "outputId": "2164fda1-405f-4c5a-feed-34e7494d94c5"
      },
      "execution_count": 116,
      "outputs": [
        {
          "output_type": "stream",
          "name": "stdout",
          "text": [
            "     UniqueID Field Time Bench Time  Player Load  Player Load / Min  \\\n",
            "0        2747       1:41       0:08    940.99829            9.24991   \n",
            "1        2466       1:41       0:08    723.68042            7.11370   \n",
            "2        1766       1:41       0:08    904.07373            8.88695   \n",
            "3        2177       1:41       0:08   1115.22868           10.96258   \n",
            "4        2087       1:41       0:08    830.18161            8.16060   \n",
            "..        ...        ...        ...          ...                ...   \n",
            "160      3830       0:01       0:00     38.05090           25.55466   \n",
            "161      2115       0:01       0:00      0.91065            0.61159   \n",
            "162      4194       0:01       0:00     38.21173           25.66268   \n",
            "163      5000       0:01       0:00     38.77196           26.03893   \n",
            "164      1837       0:01       0:00     39.30662           26.39800   \n",
            "\n",
            "     Player Load / Metre  Max Hr  Min Hr    Mean Hr  Peak Player Load  \n",
            "0              168.97054     188       0  162.38739           5.39905  \n",
            "1                0.00000     179       0  148.64881           5.62609  \n",
            "2                0.00000     197       0  144.82728           5.89006  \n",
            "3              705.84097     196     104  164.30783           4.24087  \n",
            "4               99.39908     197       0  157.98411           5.28454  \n",
            "..                   ...     ...     ...        ...               ...  \n",
            "160              0.00000     217     144  180.84676           3.75663  \n",
            "161              0.00000       0       0    0.00000           0.18986  \n",
            "162              0.00000     169     120  152.06488           3.28030  \n",
            "163              0.00000     178     125  163.50895           3.38420  \n",
            "164              0.00000     175     130  159.24497           3.31933  \n",
            "\n",
            "[165 rows x 10 columns]\n"
          ]
        }
      ]
    },
    {
      "cell_type": "code",
      "source": [
        "from sklearn.model_selection import train_test_split\n",
        "X_train, X_test, y_train, y_test = train_test_split(X, y, random_state=0)"
      ],
      "metadata": {
        "id": "eLrnwrfIJlHI"
      },
      "execution_count": 93,
      "outputs": []
    },
    {
      "cell_type": "code",
      "source": [
        "from sklearn.preprocessing import LabelEncoder\n",
        "enc = LabelEncoder()\n",
        "y = enc.fit_transform(y)"
      ],
      "metadata": {
        "id": "8_1GXhq4KZU9"
      },
      "execution_count": 94,
      "outputs": []
    },
    {
      "cell_type": "code",
      "source": [
        "from sklearn.linear_model import LinearRegression\n",
        "lr = LinearRegression(normalize=True)"
      ],
      "metadata": {
        "id": "szLZyk61Kkes"
      },
      "execution_count": 107,
      "outputs": []
    },
    {
      "cell_type": "code",
      "source": [
        "df.shape"
      ],
      "metadata": {
        "colab": {
          "base_uri": "https://localhost:8080/"
        },
        "id": "tj0-iYsYROJW",
        "outputId": "589916e1-6677-4f6d-f608-959f5d309b11"
      },
      "execution_count": 117,
      "outputs": [
        {
          "output_type": "execute_result",
          "data": {
            "text/plain": [
              "(165, 10)"
            ]
          },
          "metadata": {},
          "execution_count": 117
        }
      ]
    },
    {
      "cell_type": "code",
      "source": [
        "df.head()"
      ],
      "metadata": {
        "colab": {
          "base_uri": "https://localhost:8080/",
          "height": 206
        },
        "id": "t3EwK-wBVKvj",
        "outputId": "b3f72a39-3a9d-4966-89c1-5b568accd7db"
      },
      "execution_count": 118,
      "outputs": [
        {
          "output_type": "execute_result",
          "data": {
            "text/plain": [
              "   UniqueID Field Time Bench Time  Player Load  Player Load / Min  \\\n",
              "0      2747       1:41       0:08    940.99829            9.24991   \n",
              "1      2466       1:41       0:08    723.68042            7.11370   \n",
              "2      1766       1:41       0:08    904.07373            8.88695   \n",
              "3      2177       1:41       0:08   1115.22868           10.96258   \n",
              "4      2087       1:41       0:08    830.18161            8.16060   \n",
              "\n",
              "   Player Load / Metre  Max Hr  Min Hr    Mean Hr  Peak Player Load  \n",
              "0            168.97054     188       0  162.38739           5.39905  \n",
              "1              0.00000     179       0  148.64881           5.62609  \n",
              "2              0.00000     197       0  144.82728           5.89006  \n",
              "3            705.84097     196     104  164.30783           4.24087  \n",
              "4             99.39908     197       0  157.98411           5.28454  "
            ],
            "text/html": [
              "\n",
              "  <div id=\"df-183dd83b-a728-4b14-acaa-15946223fce4\">\n",
              "    <div class=\"colab-df-container\">\n",
              "      <div>\n",
              "<style scoped>\n",
              "    .dataframe tbody tr th:only-of-type {\n",
              "        vertical-align: middle;\n",
              "    }\n",
              "\n",
              "    .dataframe tbody tr th {\n",
              "        vertical-align: top;\n",
              "    }\n",
              "\n",
              "    .dataframe thead th {\n",
              "        text-align: right;\n",
              "    }\n",
              "</style>\n",
              "<table border=\"1\" class=\"dataframe\">\n",
              "  <thead>\n",
              "    <tr style=\"text-align: right;\">\n",
              "      <th></th>\n",
              "      <th>UniqueID</th>\n",
              "      <th>Field Time</th>\n",
              "      <th>Bench Time</th>\n",
              "      <th>Player Load</th>\n",
              "      <th>Player Load / Min</th>\n",
              "      <th>Player Load / Metre</th>\n",
              "      <th>Max Hr</th>\n",
              "      <th>Min Hr</th>\n",
              "      <th>Mean Hr</th>\n",
              "      <th>Peak Player Load</th>\n",
              "    </tr>\n",
              "  </thead>\n",
              "  <tbody>\n",
              "    <tr>\n",
              "      <th>0</th>\n",
              "      <td>2747</td>\n",
              "      <td>1:41</td>\n",
              "      <td>0:08</td>\n",
              "      <td>940.99829</td>\n",
              "      <td>9.24991</td>\n",
              "      <td>168.97054</td>\n",
              "      <td>188</td>\n",
              "      <td>0</td>\n",
              "      <td>162.38739</td>\n",
              "      <td>5.39905</td>\n",
              "    </tr>\n",
              "    <tr>\n",
              "      <th>1</th>\n",
              "      <td>2466</td>\n",
              "      <td>1:41</td>\n",
              "      <td>0:08</td>\n",
              "      <td>723.68042</td>\n",
              "      <td>7.11370</td>\n",
              "      <td>0.00000</td>\n",
              "      <td>179</td>\n",
              "      <td>0</td>\n",
              "      <td>148.64881</td>\n",
              "      <td>5.62609</td>\n",
              "    </tr>\n",
              "    <tr>\n",
              "      <th>2</th>\n",
              "      <td>1766</td>\n",
              "      <td>1:41</td>\n",
              "      <td>0:08</td>\n",
              "      <td>904.07373</td>\n",
              "      <td>8.88695</td>\n",
              "      <td>0.00000</td>\n",
              "      <td>197</td>\n",
              "      <td>0</td>\n",
              "      <td>144.82728</td>\n",
              "      <td>5.89006</td>\n",
              "    </tr>\n",
              "    <tr>\n",
              "      <th>3</th>\n",
              "      <td>2177</td>\n",
              "      <td>1:41</td>\n",
              "      <td>0:08</td>\n",
              "      <td>1115.22868</td>\n",
              "      <td>10.96258</td>\n",
              "      <td>705.84097</td>\n",
              "      <td>196</td>\n",
              "      <td>104</td>\n",
              "      <td>164.30783</td>\n",
              "      <td>4.24087</td>\n",
              "    </tr>\n",
              "    <tr>\n",
              "      <th>4</th>\n",
              "      <td>2087</td>\n",
              "      <td>1:41</td>\n",
              "      <td>0:08</td>\n",
              "      <td>830.18161</td>\n",
              "      <td>8.16060</td>\n",
              "      <td>99.39908</td>\n",
              "      <td>197</td>\n",
              "      <td>0</td>\n",
              "      <td>157.98411</td>\n",
              "      <td>5.28454</td>\n",
              "    </tr>\n",
              "  </tbody>\n",
              "</table>\n",
              "</div>\n",
              "      <button class=\"colab-df-convert\" onclick=\"convertToInteractive('df-183dd83b-a728-4b14-acaa-15946223fce4')\"\n",
              "              title=\"Convert this dataframe to an interactive table.\"\n",
              "              style=\"display:none;\">\n",
              "        \n",
              "  <svg xmlns=\"http://www.w3.org/2000/svg\" height=\"24px\"viewBox=\"0 0 24 24\"\n",
              "       width=\"24px\">\n",
              "    <path d=\"M0 0h24v24H0V0z\" fill=\"none\"/>\n",
              "    <path d=\"M18.56 5.44l.94 2.06.94-2.06 2.06-.94-2.06-.94-.94-2.06-.94 2.06-2.06.94zm-11 1L8.5 8.5l.94-2.06 2.06-.94-2.06-.94L8.5 2.5l-.94 2.06-2.06.94zm10 10l.94 2.06.94-2.06 2.06-.94-2.06-.94-.94-2.06-.94 2.06-2.06.94z\"/><path d=\"M17.41 7.96l-1.37-1.37c-.4-.4-.92-.59-1.43-.59-.52 0-1.04.2-1.43.59L10.3 9.45l-7.72 7.72c-.78.78-.78 2.05 0 2.83L4 21.41c.39.39.9.59 1.41.59.51 0 1.02-.2 1.41-.59l7.78-7.78 2.81-2.81c.8-.78.8-2.07 0-2.86zM5.41 20L4 18.59l7.72-7.72 1.47 1.35L5.41 20z\"/>\n",
              "  </svg>\n",
              "      </button>\n",
              "      \n",
              "  <style>\n",
              "    .colab-df-container {\n",
              "      display:flex;\n",
              "      flex-wrap:wrap;\n",
              "      gap: 12px;\n",
              "    }\n",
              "\n",
              "    .colab-df-convert {\n",
              "      background-color: #E8F0FE;\n",
              "      border: none;\n",
              "      border-radius: 50%;\n",
              "      cursor: pointer;\n",
              "      display: none;\n",
              "      fill: #1967D2;\n",
              "      height: 32px;\n",
              "      padding: 0 0 0 0;\n",
              "      width: 32px;\n",
              "    }\n",
              "\n",
              "    .colab-df-convert:hover {\n",
              "      background-color: #E2EBFA;\n",
              "      box-shadow: 0px 1px 2px rgba(60, 64, 67, 0.3), 0px 1px 3px 1px rgba(60, 64, 67, 0.15);\n",
              "      fill: #174EA6;\n",
              "    }\n",
              "\n",
              "    [theme=dark] .colab-df-convert {\n",
              "      background-color: #3B4455;\n",
              "      fill: #D2E3FC;\n",
              "    }\n",
              "\n",
              "    [theme=dark] .colab-df-convert:hover {\n",
              "      background-color: #434B5C;\n",
              "      box-shadow: 0px 1px 3px 1px rgba(0, 0, 0, 0.15);\n",
              "      filter: drop-shadow(0px 1px 2px rgba(0, 0, 0, 0.3));\n",
              "      fill: #FFFFFF;\n",
              "    }\n",
              "  </style>\n",
              "\n",
              "      <script>\n",
              "        const buttonEl =\n",
              "          document.querySelector('#df-183dd83b-a728-4b14-acaa-15946223fce4 button.colab-df-convert');\n",
              "        buttonEl.style.display =\n",
              "          google.colab.kernel.accessAllowed ? 'block' : 'none';\n",
              "\n",
              "        async function convertToInteractive(key) {\n",
              "          const element = document.querySelector('#df-183dd83b-a728-4b14-acaa-15946223fce4');\n",
              "          const dataTable =\n",
              "            await google.colab.kernel.invokeFunction('convertToInteractive',\n",
              "                                                     [key], {});\n",
              "          if (!dataTable) return;\n",
              "\n",
              "          const docLinkHtml = 'Like what you see? Visit the ' +\n",
              "            '<a target=\"_blank\" href=https://colab.research.google.com/notebooks/data_table.ipynb>data table notebook</a>'\n",
              "            + ' to learn more about interactive tables.';\n",
              "          element.innerHTML = '';\n",
              "          dataTable['output_type'] = 'display_data';\n",
              "          await google.colab.output.renderOutput(dataTable, element);\n",
              "          const docLink = document.createElement('div');\n",
              "          docLink.innerHTML = docLinkHtml;\n",
              "          element.appendChild(docLink);\n",
              "        }\n",
              "      </script>\n",
              "    </div>\n",
              "  </div>\n",
              "  "
            ]
          },
          "metadata": {},
          "execution_count": 118
        }
      ]
    },
    {
      "cell_type": "code",
      "source": [
        "df.describe()"
      ],
      "metadata": {
        "colab": {
          "base_uri": "https://localhost:8080/",
          "height": 300
        },
        "id": "2TbzQufTRVbL",
        "outputId": "abb469b8-14e1-43ce-aa6c-195126122431"
      },
      "execution_count": 119,
      "outputs": [
        {
          "output_type": "execute_result",
          "data": {
            "text/plain": [
              "          UniqueID  Player Load  Player Load / Min  Player Load / Metre  \\\n",
              "count   165.000000   165.000000         165.000000           165.000000   \n",
              "mean   2562.618182   233.426086          10.807822           269.106323   \n",
              "std    1417.473725   279.554528           6.093639          2000.607157   \n",
              "min     114.000000     0.910650           0.611590             0.000000   \n",
              "25%    1438.000000    50.928700           6.980940             0.000000   \n",
              "50%    2425.000000   152.744130           9.184680             0.000000   \n",
              "75%    3879.000000   231.557500          12.875700             0.000000   \n",
              "max    5001.000000  1205.741040          30.948800         22566.279130   \n",
              "\n",
              "           Max Hr      Min Hr     Mean Hr  Peak Player Load  \n",
              "count  165.000000  165.000000  165.000000        165.000000  \n",
              "mean   153.406061   51.769697  131.453128          4.529752  \n",
              "std     67.093482   59.774028   57.305290          1.301243  \n",
              "min      0.000000    0.000000    0.000000          0.189860  \n",
              "25%    154.000000    0.000000  127.161510          3.782510  \n",
              "50%    179.000000    0.000000  155.105150          4.775700  \n",
              "75%    190.000000  118.000000  165.060840          5.354830  \n",
              "max    238.000000  162.000000  189.545950          7.316210  "
            ],
            "text/html": [
              "\n",
              "  <div id=\"df-20e9ace8-e09a-4927-8221-c013519561c5\">\n",
              "    <div class=\"colab-df-container\">\n",
              "      <div>\n",
              "<style scoped>\n",
              "    .dataframe tbody tr th:only-of-type {\n",
              "        vertical-align: middle;\n",
              "    }\n",
              "\n",
              "    .dataframe tbody tr th {\n",
              "        vertical-align: top;\n",
              "    }\n",
              "\n",
              "    .dataframe thead th {\n",
              "        text-align: right;\n",
              "    }\n",
              "</style>\n",
              "<table border=\"1\" class=\"dataframe\">\n",
              "  <thead>\n",
              "    <tr style=\"text-align: right;\">\n",
              "      <th></th>\n",
              "      <th>UniqueID</th>\n",
              "      <th>Player Load</th>\n",
              "      <th>Player Load / Min</th>\n",
              "      <th>Player Load / Metre</th>\n",
              "      <th>Max Hr</th>\n",
              "      <th>Min Hr</th>\n",
              "      <th>Mean Hr</th>\n",
              "      <th>Peak Player Load</th>\n",
              "    </tr>\n",
              "  </thead>\n",
              "  <tbody>\n",
              "    <tr>\n",
              "      <th>count</th>\n",
              "      <td>165.000000</td>\n",
              "      <td>165.000000</td>\n",
              "      <td>165.000000</td>\n",
              "      <td>165.000000</td>\n",
              "      <td>165.000000</td>\n",
              "      <td>165.000000</td>\n",
              "      <td>165.000000</td>\n",
              "      <td>165.000000</td>\n",
              "    </tr>\n",
              "    <tr>\n",
              "      <th>mean</th>\n",
              "      <td>2562.618182</td>\n",
              "      <td>233.426086</td>\n",
              "      <td>10.807822</td>\n",
              "      <td>269.106323</td>\n",
              "      <td>153.406061</td>\n",
              "      <td>51.769697</td>\n",
              "      <td>131.453128</td>\n",
              "      <td>4.529752</td>\n",
              "    </tr>\n",
              "    <tr>\n",
              "      <th>std</th>\n",
              "      <td>1417.473725</td>\n",
              "      <td>279.554528</td>\n",
              "      <td>6.093639</td>\n",
              "      <td>2000.607157</td>\n",
              "      <td>67.093482</td>\n",
              "      <td>59.774028</td>\n",
              "      <td>57.305290</td>\n",
              "      <td>1.301243</td>\n",
              "    </tr>\n",
              "    <tr>\n",
              "      <th>min</th>\n",
              "      <td>114.000000</td>\n",
              "      <td>0.910650</td>\n",
              "      <td>0.611590</td>\n",
              "      <td>0.000000</td>\n",
              "      <td>0.000000</td>\n",
              "      <td>0.000000</td>\n",
              "      <td>0.000000</td>\n",
              "      <td>0.189860</td>\n",
              "    </tr>\n",
              "    <tr>\n",
              "      <th>25%</th>\n",
              "      <td>1438.000000</td>\n",
              "      <td>50.928700</td>\n",
              "      <td>6.980940</td>\n",
              "      <td>0.000000</td>\n",
              "      <td>154.000000</td>\n",
              "      <td>0.000000</td>\n",
              "      <td>127.161510</td>\n",
              "      <td>3.782510</td>\n",
              "    </tr>\n",
              "    <tr>\n",
              "      <th>50%</th>\n",
              "      <td>2425.000000</td>\n",
              "      <td>152.744130</td>\n",
              "      <td>9.184680</td>\n",
              "      <td>0.000000</td>\n",
              "      <td>179.000000</td>\n",
              "      <td>0.000000</td>\n",
              "      <td>155.105150</td>\n",
              "      <td>4.775700</td>\n",
              "    </tr>\n",
              "    <tr>\n",
              "      <th>75%</th>\n",
              "      <td>3879.000000</td>\n",
              "      <td>231.557500</td>\n",
              "      <td>12.875700</td>\n",
              "      <td>0.000000</td>\n",
              "      <td>190.000000</td>\n",
              "      <td>118.000000</td>\n",
              "      <td>165.060840</td>\n",
              "      <td>5.354830</td>\n",
              "    </tr>\n",
              "    <tr>\n",
              "      <th>max</th>\n",
              "      <td>5001.000000</td>\n",
              "      <td>1205.741040</td>\n",
              "      <td>30.948800</td>\n",
              "      <td>22566.279130</td>\n",
              "      <td>238.000000</td>\n",
              "      <td>162.000000</td>\n",
              "      <td>189.545950</td>\n",
              "      <td>7.316210</td>\n",
              "    </tr>\n",
              "  </tbody>\n",
              "</table>\n",
              "</div>\n",
              "      <button class=\"colab-df-convert\" onclick=\"convertToInteractive('df-20e9ace8-e09a-4927-8221-c013519561c5')\"\n",
              "              title=\"Convert this dataframe to an interactive table.\"\n",
              "              style=\"display:none;\">\n",
              "        \n",
              "  <svg xmlns=\"http://www.w3.org/2000/svg\" height=\"24px\"viewBox=\"0 0 24 24\"\n",
              "       width=\"24px\">\n",
              "    <path d=\"M0 0h24v24H0V0z\" fill=\"none\"/>\n",
              "    <path d=\"M18.56 5.44l.94 2.06.94-2.06 2.06-.94-2.06-.94-.94-2.06-.94 2.06-2.06.94zm-11 1L8.5 8.5l.94-2.06 2.06-.94-2.06-.94L8.5 2.5l-.94 2.06-2.06.94zm10 10l.94 2.06.94-2.06 2.06-.94-2.06-.94-.94-2.06-.94 2.06-2.06.94z\"/><path d=\"M17.41 7.96l-1.37-1.37c-.4-.4-.92-.59-1.43-.59-.52 0-1.04.2-1.43.59L10.3 9.45l-7.72 7.72c-.78.78-.78 2.05 0 2.83L4 21.41c.39.39.9.59 1.41.59.51 0 1.02-.2 1.41-.59l7.78-7.78 2.81-2.81c.8-.78.8-2.07 0-2.86zM5.41 20L4 18.59l7.72-7.72 1.47 1.35L5.41 20z\"/>\n",
              "  </svg>\n",
              "      </button>\n",
              "      \n",
              "  <style>\n",
              "    .colab-df-container {\n",
              "      display:flex;\n",
              "      flex-wrap:wrap;\n",
              "      gap: 12px;\n",
              "    }\n",
              "\n",
              "    .colab-df-convert {\n",
              "      background-color: #E8F0FE;\n",
              "      border: none;\n",
              "      border-radius: 50%;\n",
              "      cursor: pointer;\n",
              "      display: none;\n",
              "      fill: #1967D2;\n",
              "      height: 32px;\n",
              "      padding: 0 0 0 0;\n",
              "      width: 32px;\n",
              "    }\n",
              "\n",
              "    .colab-df-convert:hover {\n",
              "      background-color: #E2EBFA;\n",
              "      box-shadow: 0px 1px 2px rgba(60, 64, 67, 0.3), 0px 1px 3px 1px rgba(60, 64, 67, 0.15);\n",
              "      fill: #174EA6;\n",
              "    }\n",
              "\n",
              "    [theme=dark] .colab-df-convert {\n",
              "      background-color: #3B4455;\n",
              "      fill: #D2E3FC;\n",
              "    }\n",
              "\n",
              "    [theme=dark] .colab-df-convert:hover {\n",
              "      background-color: #434B5C;\n",
              "      box-shadow: 0px 1px 3px 1px rgba(0, 0, 0, 0.15);\n",
              "      filter: drop-shadow(0px 1px 2px rgba(0, 0, 0, 0.3));\n",
              "      fill: #FFFFFF;\n",
              "    }\n",
              "  </style>\n",
              "\n",
              "      <script>\n",
              "        const buttonEl =\n",
              "          document.querySelector('#df-20e9ace8-e09a-4927-8221-c013519561c5 button.colab-df-convert');\n",
              "        buttonEl.style.display =\n",
              "          google.colab.kernel.accessAllowed ? 'block' : 'none';\n",
              "\n",
              "        async function convertToInteractive(key) {\n",
              "          const element = document.querySelector('#df-20e9ace8-e09a-4927-8221-c013519561c5');\n",
              "          const dataTable =\n",
              "            await google.colab.kernel.invokeFunction('convertToInteractive',\n",
              "                                                     [key], {});\n",
              "          if (!dataTable) return;\n",
              "\n",
              "          const docLinkHtml = 'Like what you see? Visit the ' +\n",
              "            '<a target=\"_blank\" href=https://colab.research.google.com/notebooks/data_table.ipynb>data table notebook</a>'\n",
              "            + ' to learn more about interactive tables.';\n",
              "          element.innerHTML = '';\n",
              "          dataTable['output_type'] = 'display_data';\n",
              "          await google.colab.output.renderOutput(dataTable, element);\n",
              "          const docLink = document.createElement('div');\n",
              "          docLink.innerHTML = docLinkHtml;\n",
              "          element.appendChild(docLink);\n",
              "        }\n",
              "      </script>\n",
              "    </div>\n",
              "  </div>\n",
              "  "
            ]
          },
          "metadata": {},
          "execution_count": 119
        }
      ]
    },
    {
      "cell_type": "code",
      "source": [
        "import pandas as pd\n",
        "import numpy as np\n",
        "import matplotlib.pyplot as plt\n",
        "%matplotlib inline"
      ],
      "metadata": {
        "id": "tDkYGth5SX4V"
      },
      "execution_count": 162,
      "outputs": []
    },
    {
      "cell_type": "code",
      "source": [
        "df.plot(x='Peak Player Load', y='Mean Hr', style='o')\n",
        "plt.title('Load vs Mean Hr')\n",
        "plt.xlabel('Peak Player Load')\n",
        "plt.ylabel('Mean Hr')\n",
        "plt.show()"
      ],
      "metadata": {
        "colab": {
          "base_uri": "https://localhost:8080/",
          "height": 295
        },
        "id": "f2TP1bk7R-T5",
        "outputId": "f75ad1be-79b7-4722-b4be-2b910351a8e5"
      },
      "execution_count": 120,
      "outputs": [
        {
          "output_type": "display_data",
          "data": {
            "text/plain": [
              "<Figure size 432x288 with 1 Axes>"
            ],
            "image/png": "[encoded data removed]"
          },
          "metadata": {
            "needs_background": "light"
          }
        }
      ]
    },
    {
      "cell_type": "code",
      "source": [
        "df.plot(x='Player Load', y='Max Hr', style='o')\n",
        "plt.title('Load vs Hr')\n",
        "plt.xlabel('Player Load')\n",
        "plt.ylabel('Max Hr')\n",
        "plt.show()"
      ],
      "metadata": {
        "colab": {
          "base_uri": "https://localhost:8080/",
          "height": 295
        },
        "id": "v6kTiUfMSlZ3",
        "outputId": "9dc59010-5970-46f2-9f12-ef9b7ccca851"
      },
      "execution_count": 121,
      "outputs": [
        {
          "output_type": "display_data",
          "data": {
            "text/plain": [
              "<Figure size 432x288 with 1 Axes>"
            ],
            "image/png": "[encoded data removed]"
          },
          "metadata": {
            "needs_background": "light"
          }
        }
      ]
    },
    {
      "cell_type": "code",
      "source": [
        "X = df['Player Load'].values.reshape(-1,1)\n",
        "y = df['Mean Hr'].values.reshape(-1,1)"
      ],
      "metadata": {
        "id": "2LjbcS_oljqN"
      },
      "execution_count": 151,
      "outputs": []
    },
    {
      "cell_type": "code",
      "source": [
        "from sklearn.model_selection import train_test_split\n",
        "X_train, X_test, y_train, y_test = train_test_split(X, y, test_size=0.2, random_state=0)"
      ],
      "metadata": {
        "id": "jA-NiOkyTy9F"
      },
      "execution_count": 152,
      "outputs": []
    },
    {
      "cell_type": "markdown",
      "source": [
        "80% data to training and 20% to test\n"
      ],
      "metadata": {
        "id": "aWs_JPBrhqN-"
      }
    },
    {
      "cell_type": "code",
      "source": [
        "from sklearn.linear_model import LinearRegression\n",
        "regressor = LinearRegression()\n",
        "regressor.fit(X_train, y_train)"
      ],
      "metadata": {
        "colab": {
          "base_uri": "https://localhost:8080/"
        },
        "id": "G7Ylu3yQhBiH",
        "outputId": "53aa884d-2f78-4653-e346-42186e5d21e5"
      },
      "execution_count": 153,
      "outputs": [
        {
          "output_type": "execute_result",
          "data": {
            "text/plain": [
              "LinearRegression()"
            ]
          },
          "metadata": {},
          "execution_count": 153
        }
      ]
    },
    {
      "cell_type": "code",
      "source": [
        "print(regressor.intercept_)"
      ],
      "metadata": {
        "colab": {
          "base_uri": "https://localhost:8080/"
        },
        "id": "qOuXhb08l3sI",
        "outputId": "b8502c48-8f05-4cba-a44e-beb89b4b5e18"
      },
      "execution_count": 154,
      "outputs": [
        {
          "output_type": "stream",
          "name": "stdout",
          "text": [
            "[121.67773974]\n"
          ]
        }
      ]
    },
    {
      "cell_type": "code",
      "source": [
        "print(regressor.coef_)\n"
      ],
      "metadata": {
        "colab": {
          "base_uri": "https://localhost:8080/"
        },
        "id": "4stf9Ia2l-sq",
        "outputId": "7c27d6e4-4baf-414d-9ed2-2d714a4d0c61"
      },
      "execution_count": 155,
      "outputs": [
        {
          "output_type": "stream",
          "name": "stdout",
          "text": [
            "[[0.03554938]]\n"
          ]
        }
      ]
    },
    {
      "cell_type": "code",
      "source": [
        "y_pred = regressor.predict(X_test)"
      ],
      "metadata": {
        "id": "UPgjrTetoz2d"
      },
      "execution_count": 156,
      "outputs": []
    },
    {
      "cell_type": "code",
      "source": [
        "df1 = pd.DataFrame({'Actual': y_test.flatten(), 'Predicted': y_pred.flatten()})\n",
        "df1"
      ],
      "metadata": {
        "colab": {
          "base_uri": "https://localhost:8080/",
          "height": 1000
        },
        "id": "_RTXVLLCo7Is",
        "outputId": "5054d566-a09c-42e5-a260-b26c8a281e13"
      },
      "execution_count": 175,
      "outputs": [
        {
          "output_type": "execute_result",
          "data": {
            "text/plain": [
              "       Actual   Predicted\n",
              "0   161.73213  128.342513\n",
              "1     0.00000  128.778197\n",
              "2   176.70035  129.709319\n",
              "3   161.69778  155.083609\n",
              "4    77.96938  127.906855\n",
              "5   128.22208  126.384461\n",
              "6   177.72194  154.467725\n",
              "7   147.84290  130.325628\n",
              "8   155.75487  123.900746\n",
              "9   163.50895  123.056059\n",
              "10    0.00000  123.969999\n",
              "11  142.19025  130.192781\n",
              "12  144.89997  129.183962\n",
              "13  173.03919  122.976291\n",
              "14  170.71144  123.626449\n",
              "15  131.12081  121.751869\n",
              "16  163.95339  131.454913\n",
              "17  181.21449  124.133282\n",
              "18  174.62545  127.388867\n",
              "19  147.93892  123.844577\n",
              "20  189.54595  122.994646\n",
              "21  140.17354  128.027435\n",
              "22  179.45172  129.000651\n",
              "23  169.34676  122.973031\n",
              "24    0.00000  122.939636\n",
              "25  143.91873  123.216951\n",
              "26  152.05725  155.143097\n",
              "27  168.83277  132.126008\n",
              "28  143.87226  127.103210\n",
              "29  166.89524  126.738541\n",
              "30  111.10369  123.150903\n",
              "31    0.00000  129.178120\n",
              "32  152.57459  125.802667"
            ],
            "text/html": [
              "\n",
              "  <div id=\"df-fa4bda78-02df-4fea-8a4b-aab705356666\">\n",
              "    <div class=\"colab-df-container\">\n",
              "      <div>\n",
              "<style scoped>\n",
              "    .dataframe tbody tr th:only-of-type {\n",
              "        vertical-align: middle;\n",
              "    }\n",
              "\n",
              "    .dataframe tbody tr th {\n",
              "        vertical-align: top;\n",
              "    }\n",
              "\n",
              "    .dataframe thead th {\n",
              "        text-align: right;\n",
              "    }\n",
              "</style>\n",
              "<table border=\"1\" class=\"dataframe\">\n",
              "  <thead>\n",
              "    <tr style=\"text-align: right;\">\n",
              "      <th></th>\n",
              "      <th>Actual</th>\n",
              "      <th>Predicted</th>\n",
              "    </tr>\n",
              "  </thead>\n",
              "  <tbody>\n",
              "    <tr>\n",
              "      <th>0</th>\n",
              "      <td>161.73213</td>\n",
              "      <td>128.342513</td>\n",
              "    </tr>\n",
              "    <tr>\n",
              "      <th>1</th>\n",
              "      <td>0.00000</td>\n",
              "      <td>128.778197</td>\n",
              "    </tr>\n",
              "    <tr>\n",
              "      <th>2</th>\n",
              "      <td>176.70035</td>\n",
              "      <td>129.709319</td>\n",
              "    </tr>\n",
              "    <tr>\n",
              "      <th>3</th>\n",
              "      <td>161.69778</td>\n",
              "      <td>155.083609</td>\n",
              "    </tr>\n",
              "    <tr>\n",
              "      <th>4</th>\n",
              "      <td>77.96938</td>\n",
              "      <td>127.906855</td>\n",
              "    </tr>\n",
              "    <tr>\n",
              "      <th>5</th>\n",
              "      <td>128.22208</td>\n",
              "      <td>126.384461</td>\n",
              "    </tr>\n",
              "    <tr>\n",
              "      <th>6</th>\n",
              "      <td>177.72194</td>\n",
              "      <td>154.467725</td>\n",
              "    </tr>\n",
              "    <tr>\n",
              "      <th>7</th>\n",
              "      <td>147.84290</td>\n",
              "      <td>130.325628</td>\n",
              "    </tr>\n",
              "    <tr>\n",
              "      <th>8</th>\n",
              "      <td>155.75487</td>\n",
              "      <td>123.900746</td>\n",
              "    </tr>\n",
              "    <tr>\n",
              "      <th>9</th>\n",
              "      <td>163.50895</td>\n",
              "      <td>123.056059</td>\n",
              "    </tr>\n",
              "    <tr>\n",
              "      <th>10</th>\n",
              "      <td>0.00000</td>\n",
              "      <td>123.969999</td>\n",
              "    </tr>\n",
              "    <tr>\n",
              "      <th>11</th>\n",
              "      <td>142.19025</td>\n",
              "      <td>130.192781</td>\n",
              "    </tr>\n",
              "    <tr>\n",
              "      <th>12</th>\n",
              "      <td>144.89997</td>\n",
              "      <td>129.183962</td>\n",
              "    </tr>\n",
              "    <tr>\n",
              "      <th>13</th>\n",
              "      <td>173.03919</td>\n",
              "      <td>122.976291</td>\n",
              "    </tr>\n",
              "    <tr>\n",
              "      <th>14</th>\n",
              "      <td>170.71144</td>\n",
              "      <td>123.626449</td>\n",
              "    </tr>\n",
              "    <tr>\n",
              "      <th>15</th>\n",
              "      <td>131.12081</td>\n",
              "      <td>121.751869</td>\n",
              "    </tr>\n",
              "    <tr>\n",
              "      <th>16</th>\n",
              "      <td>163.95339</td>\n",
              "      <td>131.454913</td>\n",
              "    </tr>\n",
              "    <tr>\n",
              "      <th>17</th>\n",
              "      <td>181.21449</td>\n",
              "      <td>124.133282</td>\n",
              "    </tr>\n",
              "    <tr>\n",
              "      <th>18</th>\n",
              "      <td>174.62545</td>\n",
              "      <td>127.388867</td>\n",
              "    </tr>\n",
              "    <tr>\n",
              "      <th>19</th>\n",
              "      <td>147.93892</td>\n",
              "      <td>123.844577</td>\n",
              "    </tr>\n",
              "    <tr>\n",
              "      <th>20</th>\n",
              "      <td>189.54595</td>\n",
              "      <td>122.994646</td>\n",
              "    </tr>\n",
              "    <tr>\n",
              "      <th>21</th>\n",
              "      <td>140.17354</td>\n",
              "      <td>128.027435</td>\n",
              "    </tr>\n",
              "    <tr>\n",
              "      <th>22</th>\n",
              "      <td>179.45172</td>\n",
              "      <td>129.000651</td>\n",
              "    </tr>\n",
              "    <tr>\n",
              "      <th>23</th>\n",
              "      <td>169.34676</td>\n",
              "      <td>122.973031</td>\n",
              "    </tr>\n",
              "    <tr>\n",
              "      <th>24</th>\n",
              "      <td>0.00000</td>\n",
              "      <td>122.939636</td>\n",
              "    </tr>\n",
              "    <tr>\n",
              "      <th>25</th>\n",
              "      <td>143.91873</td>\n",
              "      <td>123.216951</td>\n",
              "    </tr>\n",
              "    <tr>\n",
              "      <th>26</th>\n",
              "      <td>152.05725</td>\n",
              "      <td>155.143097</td>\n",
              "    </tr>\n",
              "    <tr>\n",
              "      <th>27</th>\n",
              "      <td>168.83277</td>\n",
              "      <td>132.126008</td>\n",
              "    </tr>\n",
              "    <tr>\n",
              "      <th>28</th>\n",
              "      <td>143.87226</td>\n",
              "      <td>127.103210</td>\n",
              "    </tr>\n",
              "    <tr>\n",
              "      <th>29</th>\n",
              "      <td>166.89524</td>\n",
              "      <td>126.738541</td>\n",
              "    </tr>\n",
              "    <tr>\n",
              "      <th>30</th>\n",
              "      <td>111.10369</td>\n",
              "      <td>123.150903</td>\n",
              "    </tr>\n",
              "    <tr>\n",
              "      <th>31</th>\n",
              "      <td>0.00000</td>\n",
              "      <td>129.178120</td>\n",
              "    </tr>\n",
              "    <tr>\n",
              "      <th>32</th>\n",
              "      <td>152.57459</td>\n",
              "      <td>125.802667</td>\n",
              "    </tr>\n",
              "  </tbody>\n",
              "</table>\n",
              "</div>\n",
              "      <button class=\"colab-df-convert\" onclick=\"convertToInteractive('df-fa4bda78-02df-4fea-8a4b-aab705356666')\"\n",
              "              title=\"Convert this dataframe to an interactive table.\"\n",
              "              style=\"display:none;\">\n",
              "        \n",
              "  <svg xmlns=\"http://www.w3.org/2000/svg\" height=\"24px\"viewBox=\"0 0 24 24\"\n",
              "       width=\"24px\">\n",
              "    <path d=\"M0 0h24v24H0V0z\" fill=\"none\"/>\n",
              "    <path d=\"M18.56 5.44l.94 2.06.94-2.06 2.06-.94-2.06-.94-.94-2.06-.94 2.06-2.06.94zm-11 1L8.5 8.5l.94-2.06 2.06-.94-2.06-.94L8.5 2.5l-.94 2.06-2.06.94zm10 10l.94 2.06.94-2.06 2.06-.94-2.06-.94-.94-2.06-.94 2.06-2.06.94z\"/><path d=\"M17.41 7.96l-1.37-1.37c-.4-.4-.92-.59-1.43-.59-.52 0-1.04.2-1.43.59L10.3 9.45l-7.72 7.72c-.78.78-.78 2.05 0 2.83L4 21.41c.39.39.9.59 1.41.59.51 0 1.02-.2 1.41-.59l7.78-7.78 2.81-2.81c.8-.78.8-2.07 0-2.86zM5.41 20L4 18.59l7.72-7.72 1.47 1.35L5.41 20z\"/>\n",
              "  </svg>\n",
              "      </button>\n",
              "      \n",
              "  <style>\n",
              "    .colab-df-container {\n",
              "      display:flex;\n",
              "      flex-wrap:wrap;\n",
              "      gap: 12px;\n",
              "    }\n",
              "\n",
              "    .colab-df-convert {\n",
              "      background-color: #E8F0FE;\n",
              "      border: none;\n",
              "      border-radius: 50%;\n",
              "      cursor: pointer;\n",
              "      display: none;\n",
              "      fill: #1967D2;\n",
              "      height: 32px;\n",
              "      padding: 0 0 0 0;\n",
              "      width: 32px;\n",
              "    }\n",
              "\n",
              "    .colab-df-convert:hover {\n",
              "      background-color: #E2EBFA;\n",
              "      box-shadow: 0px 1px 2px rgba(60, 64, 67, 0.3), 0px 1px 3px 1px rgba(60, 64, 67, 0.15);\n",
              "      fill: #174EA6;\n",
              "    }\n",
              "\n",
              "    [theme=dark] .colab-df-convert {\n",
              "      background-color: #3B4455;\n",
              "      fill: #D2E3FC;\n",
              "    }\n",
              "\n",
              "    [theme=dark] .colab-df-convert:hover {\n",
              "      background-color: #434B5C;\n",
              "      box-shadow: 0px 1px 3px 1px rgba(0, 0, 0, 0.15);\n",
              "      filter: drop-shadow(0px 1px 2px rgba(0, 0, 0, 0.3));\n",
              "      fill: #FFFFFF;\n",
              "    }\n",
              "  </style>\n",
              "\n",
              "      <script>\n",
              "        const buttonEl =\n",
              "          document.querySelector('#df-fa4bda78-02df-4fea-8a4b-aab705356666 button.colab-df-convert');\n",
              "        buttonEl.style.display =\n",
              "          google.colab.kernel.accessAllowed ? 'block' : 'none';\n",
              "\n",
              "        async function convertToInteractive(key) {\n",
              "          const element = document.querySelector('#df-fa4bda78-02df-4fea-8a4b-aab705356666');\n",
              "          const dataTable =\n",
              "            await google.colab.kernel.invokeFunction('convertToInteractive',\n",
              "                                                     [key], {});\n",
              "          if (!dataTable) return;\n",
              "\n",
              "          const docLinkHtml = 'Like what you see? Visit the ' +\n",
              "            '<a target=\"_blank\" href=https://colab.research.google.com/notebooks/data_table.ipynb>data table notebook</a>'\n",
              "            + ' to learn more about interactive tables.';\n",
              "          element.innerHTML = '';\n",
              "          dataTable['output_type'] = 'display_data';\n",
              "          await google.colab.output.renderOutput(dataTable, element);\n",
              "          const docLink = document.createElement('div');\n",
              "          docLink.innerHTML = docLinkHtml;\n",
              "          element.appendChild(docLink);\n",
              "        }\n",
              "      </script>\n",
              "    </div>\n",
              "  </div>\n",
              "  "
            ]
          },
          "metadata": {},
          "execution_count": 175
        }
      ]
    },
    {
      "cell_type": "code",
      "source": [
        "df2 = df.head(25)\n",
        "df2.plot(kind='bar',figsize=(16,10))\n",
        "plt.grid(which='major', linestyle='-', linewidth='0.5', color='green')\n",
        "plt.grid(which='minor', linestyle=':', linewidth='0.5', color='black')\n",
        "plt.show()"
      ],
      "metadata": {
        "colab": {
          "base_uri": "https://localhost:8080/",
          "height": 594
        },
        "id": "GMrCV4WgpEcy",
        "outputId": "899e774a-5437-47f4-ff62-baf4d436e0fc"
      },
      "execution_count": 174,
      "outputs": [
        {
          "output_type": "display_data",
          "data": {
            "text/plain": [
              "<Figure size 1152x720 with 1 Axes>"
            ],
            "image/png": "[encoded data removed]"
          },
          "metadata": {
            "needs_background": "light"
          }
        }
      ]
    },
    {
      "cell_type": "code",
      "source": [
        "plt.scatter(X_test, y_test,  color='gold')\n",
        "plt.plot(X_test, y_pred, color='blue', linewidth=2)\n",
        "plt.show()\n"
      ],
      "metadata": {
        "colab": {
          "base_uri": "https://localhost:8080/",
          "height": 265
        },
        "id": "uPPtKDlFpRq_",
        "outputId": "0a6f4f74-c37f-4643-f7de-87ad8dd9b102"
      },
      "execution_count": 177,
      "outputs": [
        {
          "output_type": "display_data",
          "data": {
            "text/plain": [
              "<Figure size 432x288 with 1 Axes>"
            ],
            "image/png": "[encoded data removed]"
          },
          "metadata": {
            "needs_background": "light"
          }
        }
      ]
    },
    {
      "cell_type": "code",
      "source": [
        "from sklearn.metrics import mean_squared_error"
      ],
      "metadata": {
        "id": "HR6ExfL-qUKT"
      },
      "execution_count": 164,
      "outputs": []
    },
    {
      "cell_type": "code",
      "source": [
        "mean_squared_error(y_test, y_pred)"
      ],
      "metadata": {
        "colab": {
          "base_uri": "https://localhost:8080/"
        },
        "id": "YKGD_Z6eq2ax",
        "outputId": "94b97782-16e3-4738-ac89-8796664e1d59"
      },
      "execution_count": 170,
      "outputs": [
        {
          "output_type": "execute_result",
          "data": {
            "text/plain": [
              "3007.816615719062"
            ]
          },
          "metadata": {},
          "execution_count": 170
        }
      ]
    }
  ]
}